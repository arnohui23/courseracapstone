{
 "cells": [
  {
   "cell_type": "markdown",
   "metadata": {
    "collapsed": true
   },
   "source": [
    "### Finding Yoga Practioners in the US\n",
    "\n",
    "#### Introduction\n",
    "This capstone project looks for a suitable retail location for a new startup selling yoga gear or new age products in the US. Yoga is particularly popular in big cities as the exercise is proven to bring benefits to our physical and mental health which well-off city dwellers cares very much. However, where can we find all those avid yoga practioners i.e. our potential cusomters? This naturally points to cities and areas with highest number of yoga studios!\n",
    "\n",
    "In this project, we will make reference to fourquare API data to first identify a US city from the three largest US cities, New York, Chicago and Los Angeles, based on the number of yoga stuiods and how concentrate they are. Then, we will dive deep into the chosen city, exploring different nighborhoods and boroughs of the city in order to answer the Problem Statement -- \"Which city should I start my first shop?\" and \"Which area in the city is the most suitable?\"\n",
    "\n",
    "#### Data\n",
    "To answer the first question, data from Foursquare API will be extracted through the Request library in Python and used to identify the US city with the highest number and density of yoga studious. \n",
    "\n",
    "Data on the chosen City include latitude, longitude, neighourbhoods, boroughs, details about yoga studios are needed and extracted from corresponding open source API.  \n",
    "\n",
    "\n",
    "#### Methodology \n",
    "\n",
    "• FourSquare API will be used to find the US cities with the highest number and density of yoga studios.  To measure the highest number is easy, but to measure its concentration would require the calculation of mean distance of each shop with reference to the location data. A US city will be selected for our further analysis.   \n",
    "\n",
    "• Data will be collected from the chosen city from their respective open source API. It will be cleaned and converted into a dataframe, before merging with the details about yoga studios extracted from FourSquare\n",
    "\n",
    "• Number of yoga studios in each neighborhood and borough will be presented and compared for our decision.  \n",
    "\n",
    "• Finally, we can determine where to open our first yoga gear or new age shops based on our study.\n"
   ]
  },
  {
   "cell_type": "code",
   "execution_count": null,
   "metadata": {},
   "outputs": [],
   "source": []
  }
 ],
 "metadata": {
  "kernelspec": {
   "display_name": "Python 3.6",
   "language": "python",
   "name": "python3"
  },
  "language_info": {
   "codemirror_mode": {
    "name": "ipython",
    "version": 3
   },
   "file_extension": ".py",
   "mimetype": "text/x-python",
   "name": "python",
   "nbconvert_exporter": "python",
   "pygments_lexer": "ipython3",
   "version": "3.6.8"
  }
 },
 "nbformat": 4,
 "nbformat_minor": 1
}
