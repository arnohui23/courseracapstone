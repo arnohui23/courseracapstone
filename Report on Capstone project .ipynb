{
 "cells": [
  {
   "cell_type": "markdown",
   "metadata": {
    "collapsed": true
   },
   "source": [
    "### Finding Yoga Practioners in the US\n",
    "\n",
    "#### Introduction\n",
    "This capstone project looks for a suitable retail location for a new startup selling yoga gear or new age products in the US. Yoga is particularly popular in big cities as the exercise is proven to bring benefits to our physical and mental health which well-off city dwellers cares very much. However, where can we find all those avid yoga practioners i.e. our potential cusomters? This naturally points to cities and areas with highest number of yoga studios!\n",
    "\n",
    "In this project, we will make reference to fourquare API data to first identify a US city from the three largest US cities, New York, Chicago and Los Angeles, based on the number of yoga stuiods and how concentrate they are. Then, we will dive deep into the chosen city, exploring different nighborhoods and boroughs of the city in order to answer the Problem Statement -- \"Which city should I start my first shop?\" and \"Which area in the city is the most suitable?\".  \n",
    "\n",
    "#### Target audience \n",
    "This report should be of interetsed to new start-ups who are targeting selling products to avid yoga practioners\n",
    "\n",
    "\n",
    "#### Data & Methodology \n",
    "\n",
    "• FourSquare API is used to find the US cities with the highest number and density of yoga studios using the Request library in Python. Accordingly, we find out that NYC has the highest number of yoga studios among the 3 major US cities (239) vs LA (212) and Chicago (190).  \n",
    "\n",
    "• Next we try to see how concentrated the yoga studious is by calculating the mean distance of each yoga studio in each city.  Again, NYC outperforms with the average distance for each yoga studios being 0.025 miles, much shorter than 0.093 miles in LA and 0.042 miles in Chicago. Therefore, we conclude that NYC will be the city to go.\n",
    "\n",
    "• We then study further about NYC by extracting neighourhood data from https://cocl.us/new_york_dataset.  The data was cleaned and converted into dataframe before applying for identifing the concentration of yoga studious in each neighourhood and borough in NYC\n",
    "\n",
    "• We then, using matplotlib library, to show that Brooklyn Height and Brooklyn has the highest number of yoga studios in NYC.  \n",
    "\n",
    "#### Conclusion and way-forwardy \n",
    "\n",
    "Based on the findings above, we first pick NYC as the city to go due to its highest number and concentraion of yoga studios among the three major US cities.  We then identify Brookyln Height and Brooklyn as the ideal spot within NYC for opening a new shop for selling yoga gear and new age products. This study is very preliminary and can be further expanded to take into account i)tourist traffics, ii) potential competitors (e.g. existing yogi stores), iii) rental price and iv) weekday vs weekend traffics.  \n",
    "\n",
    "\n",
    " \n",
    "\n"
   ]
  },
  {
   "cell_type": "code",
   "execution_count": null,
   "metadata": {},
   "outputs": [],
   "source": []
  }
 ],
 "metadata": {
  "kernelspec": {
   "display_name": "Python 3.6",
   "language": "python",
   "name": "python3"
  },
  "language_info": {
   "codemirror_mode": {
    "name": "ipython",
    "version": 3
   },
   "file_extension": ".py",
   "mimetype": "text/x-python",
   "name": "python",
   "nbconvert_exporter": "python",
   "pygments_lexer": "ipython3",
   "version": "3.6.8"
  }
 },
 "nbformat": 4,
 "nbformat_minor": 1
}
